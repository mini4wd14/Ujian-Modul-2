{
 "metadata": {
  "language_info": {
   "codemirror_mode": {
    "name": "ipython",
    "version": 3
   },
   "file_extension": ".py",
   "mimetype": "text/x-python",
   "name": "python",
   "nbconvert_exporter": "python",
   "pygments_lexer": "ipython3",
   "version": "3.9.2"
  },
  "orig_nbformat": 2,
  "kernelspec": {
   "name": "python392jvsc74a57bd0f656dde794c20166a4593328afb92d61f53e96a9744992e96cbb91175a27a0da",
   "display_name": "Python 3.9.2 64-bit"
  },
  "metadata": {
   "interpreter": {
    "hash": "f656dde794c20166a4593328afb92d61f53e96a9744992e96cbb91175a27a0da"
   }
  }
 },
 "nbformat": 4,
 "nbformat_minor": 2,
 "cells": [
  {
   "cell_type": "code",
   "execution_count": 2,
   "metadata": {},
   "outputs": [],
   "source": [
    "import mysql.connector\n",
    "import pandas as pd"
   ]
  },
  {
   "cell_type": "code",
   "execution_count": 3,
   "metadata": {},
   "outputs": [],
   "source": [
    "mydb = mysql.connector.connect(\n",
    "    host = 'localhost',\n",
    "    user = 'root',\n",
    "    passwd = 'root',\n",
    "    database = 'sakila'\n",
    ")"
   ]
  },
  {
   "cell_type": "code",
   "execution_count": 4,
   "metadata": {},
   "outputs": [],
   "source": [
    "mycursor = mydb.cursor()\n",
    "def sql_df(yq):\n",
    "    mycursor.execute(yq)\n",
    "    myresult = mycursor.fetchall()\n",
    "    df = pd.DataFrame(myresult,columns= mycursor.column_names)\n",
    "    return df"
   ]
  },
  {
   "cell_type": "code",
   "execution_count": 5,
   "metadata": {},
   "outputs": [
    {
     "output_type": "execute_result",
     "data": {
      "text/plain": [
       "              Tables_in_sakila\n",
       "0                        actor\n",
       "1                   actor_info\n",
       "2                      address\n",
       "3                     category\n",
       "4                         city\n",
       "5                      country\n",
       "6                     customer\n",
       "7                customer_list\n",
       "8                         film\n",
       "9                   film_actor\n",
       "10               film_category\n",
       "11                   film_list\n",
       "12                   film_text\n",
       "13                   inventory\n",
       "14                    language\n",
       "15  nicer_but_slower_film_list\n",
       "16                     payment\n",
       "17                      rental\n",
       "18      sales_by_film_category\n",
       "19              sales_by_store\n",
       "20                       staff\n",
       "21                  staff_list\n",
       "22                       store"
      ],
      "text/html": "<div>\n<style scoped>\n    .dataframe tbody tr th:only-of-type {\n        vertical-align: middle;\n    }\n\n    .dataframe tbody tr th {\n        vertical-align: top;\n    }\n\n    .dataframe thead th {\n        text-align: right;\n    }\n</style>\n<table border=\"1\" class=\"dataframe\">\n  <thead>\n    <tr style=\"text-align: right;\">\n      <th></th>\n      <th>Tables_in_sakila</th>\n    </tr>\n  </thead>\n  <tbody>\n    <tr>\n      <th>0</th>\n      <td>actor</td>\n    </tr>\n    <tr>\n      <th>1</th>\n      <td>actor_info</td>\n    </tr>\n    <tr>\n      <th>2</th>\n      <td>address</td>\n    </tr>\n    <tr>\n      <th>3</th>\n      <td>category</td>\n    </tr>\n    <tr>\n      <th>4</th>\n      <td>city</td>\n    </tr>\n    <tr>\n      <th>5</th>\n      <td>country</td>\n    </tr>\n    <tr>\n      <th>6</th>\n      <td>customer</td>\n    </tr>\n    <tr>\n      <th>7</th>\n      <td>customer_list</td>\n    </tr>\n    <tr>\n      <th>8</th>\n      <td>film</td>\n    </tr>\n    <tr>\n      <th>9</th>\n      <td>film_actor</td>\n    </tr>\n    <tr>\n      <th>10</th>\n      <td>film_category</td>\n    </tr>\n    <tr>\n      <th>11</th>\n      <td>film_list</td>\n    </tr>\n    <tr>\n      <th>12</th>\n      <td>film_text</td>\n    </tr>\n    <tr>\n      <th>13</th>\n      <td>inventory</td>\n    </tr>\n    <tr>\n      <th>14</th>\n      <td>language</td>\n    </tr>\n    <tr>\n      <th>15</th>\n      <td>nicer_but_slower_film_list</td>\n    </tr>\n    <tr>\n      <th>16</th>\n      <td>payment</td>\n    </tr>\n    <tr>\n      <th>17</th>\n      <td>rental</td>\n    </tr>\n    <tr>\n      <th>18</th>\n      <td>sales_by_film_category</td>\n    </tr>\n    <tr>\n      <th>19</th>\n      <td>sales_by_store</td>\n    </tr>\n    <tr>\n      <th>20</th>\n      <td>staff</td>\n    </tr>\n    <tr>\n      <th>21</th>\n      <td>staff_list</td>\n    </tr>\n    <tr>\n      <th>22</th>\n      <td>store</td>\n    </tr>\n  </tbody>\n</table>\n</div>"
     },
     "metadata": {},
     "execution_count": 5
    }
   ],
   "source": [
    "# Cek table yang ada pada database sakila\n",
    "sql_df('show tables')"
   ]
  },
  {
   "cell_type": "code",
   "execution_count": 10,
   "metadata": {},
   "outputs": [
    {
     "output_type": "execute_result",
     "data": {
      "text/plain": [
       "   FID             title                                        description  \\\n",
       "0    1  ACADEMY DINOSAUR  A Epic Drama of a Feminist And a Mad Scientist...   \n",
       "1    2    ACE GOLDFINGER  A Astounding Epistle of a Database Administrat...   \n",
       "2    3  ADAPTATION HOLES  A Astounding Reflection of a Lumberjack And a ...   \n",
       "3    4  AFFAIR PREJUDICE  A Fanciful Documentary of a Frisbee And a Lumb...   \n",
       "4    5       AFRICAN EGG  A Fast-Paced Documentary of a Pastry Chef And ...   \n",
       "\n",
       "      category price  length rating  \\\n",
       "0  Documentary  0.99      86     PG   \n",
       "1       Horror  4.99      48      G   \n",
       "2  Documentary  2.99      50  NC-17   \n",
       "3       Horror  2.99     117      G   \n",
       "4       Family  2.99     130      G   \n",
       "\n",
       "                                              actors  \n",
       "0  WARREN NOLTE, OPRAH KILMER, ROCK DUKAKIS, MENA...  \n",
       "1  CHRIS DEPP, SEAN GUINESS, MINNIE ZELLWEGER, BO...  \n",
       "2  BOB FAWCETT, CAMERON STREEP, NICK WAHLBERG, RA...  \n",
       "3  OPRAH KILMER, FAY WINSLET, KENNETH PESCI, JODI...  \n",
       "4  GARY PHOENIX, DUSTIN TAUTOU, MATTHEW LEIGH, MA...  "
      ],
      "text/html": "<div>\n<style scoped>\n    .dataframe tbody tr th:only-of-type {\n        vertical-align: middle;\n    }\n\n    .dataframe tbody tr th {\n        vertical-align: top;\n    }\n\n    .dataframe thead th {\n        text-align: right;\n    }\n</style>\n<table border=\"1\" class=\"dataframe\">\n  <thead>\n    <tr style=\"text-align: right;\">\n      <th></th>\n      <th>FID</th>\n      <th>title</th>\n      <th>description</th>\n      <th>category</th>\n      <th>price</th>\n      <th>length</th>\n      <th>rating</th>\n      <th>actors</th>\n    </tr>\n  </thead>\n  <tbody>\n    <tr>\n      <th>0</th>\n      <td>1</td>\n      <td>ACADEMY DINOSAUR</td>\n      <td>A Epic Drama of a Feminist And a Mad Scientist...</td>\n      <td>Documentary</td>\n      <td>0.99</td>\n      <td>86</td>\n      <td>PG</td>\n      <td>WARREN NOLTE, OPRAH KILMER, ROCK DUKAKIS, MENA...</td>\n    </tr>\n    <tr>\n      <th>1</th>\n      <td>2</td>\n      <td>ACE GOLDFINGER</td>\n      <td>A Astounding Epistle of a Database Administrat...</td>\n      <td>Horror</td>\n      <td>4.99</td>\n      <td>48</td>\n      <td>G</td>\n      <td>CHRIS DEPP, SEAN GUINESS, MINNIE ZELLWEGER, BO...</td>\n    </tr>\n    <tr>\n      <th>2</th>\n      <td>3</td>\n      <td>ADAPTATION HOLES</td>\n      <td>A Astounding Reflection of a Lumberjack And a ...</td>\n      <td>Documentary</td>\n      <td>2.99</td>\n      <td>50</td>\n      <td>NC-17</td>\n      <td>BOB FAWCETT, CAMERON STREEP, NICK WAHLBERG, RA...</td>\n    </tr>\n    <tr>\n      <th>3</th>\n      <td>4</td>\n      <td>AFFAIR PREJUDICE</td>\n      <td>A Fanciful Documentary of a Frisbee And a Lumb...</td>\n      <td>Horror</td>\n      <td>2.99</td>\n      <td>117</td>\n      <td>G</td>\n      <td>OPRAH KILMER, FAY WINSLET, KENNETH PESCI, JODI...</td>\n    </tr>\n    <tr>\n      <th>4</th>\n      <td>5</td>\n      <td>AFRICAN EGG</td>\n      <td>A Fast-Paced Documentary of a Pastry Chef And ...</td>\n      <td>Family</td>\n      <td>2.99</td>\n      <td>130</td>\n      <td>G</td>\n      <td>GARY PHOENIX, DUSTIN TAUTOU, MATTHEW LEIGH, MA...</td>\n    </tr>\n  </tbody>\n</table>\n</div>"
     },
     "metadata": {},
     "execution_count": 10
    }
   ],
   "source": [
    "# Menampilkan isi table dari film_list\n",
    "sql_df('select * from film_list limit 5')"
   ]
  },
  {
   "source": [
    "1. Tampilkan daftar 10 film komedi dengan durasi tersingkat. Urutkan data berdasarkan film dengan\n",
    "urasi terpendek. Kolom yang diwajibkan tampil adalah title, category dan length.\n"
   ],
   "cell_type": "markdown",
   "metadata": {}
  },
  {
   "cell_type": "code",
   "execution_count": 13,
   "metadata": {},
   "outputs": [
    {
     "output_type": "execute_result",
     "data": {
      "text/plain": [
       "              title category  length\n",
       "0   DOWNHILL ENOUGH   Comedy      47\n",
       "1    HEAVEN FREEDOM   Comedy      48\n",
       "2  PARADISE SABRINA   Comedy      48\n",
       "3  HURRICANE AFFAIR   Comedy      49\n",
       "4         ZORRO ARK   Comedy      50\n",
       "5        LION UNCUT   Comedy      50\n",
       "6       CLOSER BANG   Comedy      58\n",
       "7   AIRPLANE SIERRA   Comedy      62\n",
       "8   LONELY ELEPHANT   Comedy      67\n",
       "9      DOOM DANCING   Comedy      68"
      ],
      "text/html": "<div>\n<style scoped>\n    .dataframe tbody tr th:only-of-type {\n        vertical-align: middle;\n    }\n\n    .dataframe tbody tr th {\n        vertical-align: top;\n    }\n\n    .dataframe thead th {\n        text-align: right;\n    }\n</style>\n<table border=\"1\" class=\"dataframe\">\n  <thead>\n    <tr style=\"text-align: right;\">\n      <th></th>\n      <th>title</th>\n      <th>category</th>\n      <th>length</th>\n    </tr>\n  </thead>\n  <tbody>\n    <tr>\n      <th>0</th>\n      <td>DOWNHILL ENOUGH</td>\n      <td>Comedy</td>\n      <td>47</td>\n    </tr>\n    <tr>\n      <th>1</th>\n      <td>HEAVEN FREEDOM</td>\n      <td>Comedy</td>\n      <td>48</td>\n    </tr>\n    <tr>\n      <th>2</th>\n      <td>PARADISE SABRINA</td>\n      <td>Comedy</td>\n      <td>48</td>\n    </tr>\n    <tr>\n      <th>3</th>\n      <td>HURRICANE AFFAIR</td>\n      <td>Comedy</td>\n      <td>49</td>\n    </tr>\n    <tr>\n      <th>4</th>\n      <td>ZORRO ARK</td>\n      <td>Comedy</td>\n      <td>50</td>\n    </tr>\n    <tr>\n      <th>5</th>\n      <td>LION UNCUT</td>\n      <td>Comedy</td>\n      <td>50</td>\n    </tr>\n    <tr>\n      <th>6</th>\n      <td>CLOSER BANG</td>\n      <td>Comedy</td>\n      <td>58</td>\n    </tr>\n    <tr>\n      <th>7</th>\n      <td>AIRPLANE SIERRA</td>\n      <td>Comedy</td>\n      <td>62</td>\n    </tr>\n    <tr>\n      <th>8</th>\n      <td>LONELY ELEPHANT</td>\n      <td>Comedy</td>\n      <td>67</td>\n    </tr>\n    <tr>\n      <th>9</th>\n      <td>DOOM DANCING</td>\n      <td>Comedy</td>\n      <td>68</td>\n    </tr>\n  </tbody>\n</table>\n</div>"
     },
     "metadata": {},
     "execution_count": 13
    }
   ],
   "source": [
    "sql_df('select title, category, length from film_list where category = \"Comedy\" order by length limit 10')"
   ]
  },
  {
   "source": [
    "2. Tampilkan daftar lengkap kategori film beserta jumlah film tiap kategori & rata-rata harga sewa\n",
    "DVD film tiap kategori. Urutkan data dari kategori dengan jumlah film terbanyak. Kolom yang\n",
    "diwajibkan ada minimal adalah kategori, jumlah film dan rata-rata harga sewa."
   ],
   "cell_type": "markdown",
   "metadata": {}
  },
  {
   "cell_type": "code",
   "execution_count": 17,
   "metadata": {},
   "outputs": [
    {
     "output_type": "execute_result",
     "data": {
      "text/plain": [
       "       kategori  jumlahMovie rataHargaSewa\n",
       "0       Foreign           73      3.099589\n",
       "1        Sports           73      3.099589\n",
       "2        Family           69      2.758116\n",
       "3   Documentary           68      2.666471\n",
       "4     Animation           66      2.808182\n",
       "5        Action           64      2.646250\n",
       "6           New           63      3.116984\n",
       "7        Sci-Fi           61      3.219508\n",
       "8         Drama           61      2.990000\n",
       "9         Games           61      3.252295\n",
       "10     Children           60      2.890000\n",
       "11       Comedy           58      3.162414\n",
       "12     Classics           57      2.744386\n",
       "13       Horror           56      3.025714\n",
       "14       Travel           56      3.275714\n",
       "15        Music           51      2.950784"
      ],
      "text/html": "<div>\n<style scoped>\n    .dataframe tbody tr th:only-of-type {\n        vertical-align: middle;\n    }\n\n    .dataframe tbody tr th {\n        vertical-align: top;\n    }\n\n    .dataframe thead th {\n        text-align: right;\n    }\n</style>\n<table border=\"1\" class=\"dataframe\">\n  <thead>\n    <tr style=\"text-align: right;\">\n      <th></th>\n      <th>kategori</th>\n      <th>jumlahMovie</th>\n      <th>rataHargaSewa</th>\n    </tr>\n  </thead>\n  <tbody>\n    <tr>\n      <th>0</th>\n      <td>Foreign</td>\n      <td>73</td>\n      <td>3.099589</td>\n    </tr>\n    <tr>\n      <th>1</th>\n      <td>Sports</td>\n      <td>73</td>\n      <td>3.099589</td>\n    </tr>\n    <tr>\n      <th>2</th>\n      <td>Family</td>\n      <td>69</td>\n      <td>2.758116</td>\n    </tr>\n    <tr>\n      <th>3</th>\n      <td>Documentary</td>\n      <td>68</td>\n      <td>2.666471</td>\n    </tr>\n    <tr>\n      <th>4</th>\n      <td>Animation</td>\n      <td>66</td>\n      <td>2.808182</td>\n    </tr>\n    <tr>\n      <th>5</th>\n      <td>Action</td>\n      <td>64</td>\n      <td>2.646250</td>\n    </tr>\n    <tr>\n      <th>6</th>\n      <td>New</td>\n      <td>63</td>\n      <td>3.116984</td>\n    </tr>\n    <tr>\n      <th>7</th>\n      <td>Sci-Fi</td>\n      <td>61</td>\n      <td>3.219508</td>\n    </tr>\n    <tr>\n      <th>8</th>\n      <td>Drama</td>\n      <td>61</td>\n      <td>2.990000</td>\n    </tr>\n    <tr>\n      <th>9</th>\n      <td>Games</td>\n      <td>61</td>\n      <td>3.252295</td>\n    </tr>\n    <tr>\n      <th>10</th>\n      <td>Children</td>\n      <td>60</td>\n      <td>2.890000</td>\n    </tr>\n    <tr>\n      <th>11</th>\n      <td>Comedy</td>\n      <td>58</td>\n      <td>3.162414</td>\n    </tr>\n    <tr>\n      <th>12</th>\n      <td>Classics</td>\n      <td>57</td>\n      <td>2.744386</td>\n    </tr>\n    <tr>\n      <th>13</th>\n      <td>Horror</td>\n      <td>56</td>\n      <td>3.025714</td>\n    </tr>\n    <tr>\n      <th>14</th>\n      <td>Travel</td>\n      <td>56</td>\n      <td>3.275714</td>\n    </tr>\n    <tr>\n      <th>15</th>\n      <td>Music</td>\n      <td>51</td>\n      <td>2.950784</td>\n    </tr>\n  </tbody>\n</table>\n</div>"
     },
     "metadata": {},
     "execution_count": 17
    }
   ],
   "source": [
    "sql_df('select category as kategori, count(title) as jumlahMovie, avg(price) as rataHargaSewa from film_list group by category order by jumlahMovie desc')"
   ]
  },
  {
   "cell_type": "code",
   "execution_count": 23,
   "metadata": {},
   "outputs": [
    {
     "output_type": "execute_result",
     "data": {
      "text/plain": [
       "   actor_id  film_id         last_update\n",
       "0         1        1 2006-02-15 05:05:03\n",
       "1         1       23 2006-02-15 05:05:03\n",
       "2         1       25 2006-02-15 05:05:03\n",
       "3         1      106 2006-02-15 05:05:03\n",
       "4         1      140 2006-02-15 05:05:03"
      ],
      "text/html": "<div>\n<style scoped>\n    .dataframe tbody tr th:only-of-type {\n        vertical-align: middle;\n    }\n\n    .dataframe tbody tr th {\n        vertical-align: top;\n    }\n\n    .dataframe thead th {\n        text-align: right;\n    }\n</style>\n<table border=\"1\" class=\"dataframe\">\n  <thead>\n    <tr style=\"text-align: right;\">\n      <th></th>\n      <th>actor_id</th>\n      <th>film_id</th>\n      <th>last_update</th>\n    </tr>\n  </thead>\n  <tbody>\n    <tr>\n      <th>0</th>\n      <td>1</td>\n      <td>1</td>\n      <td>2006-02-15 05:05:03</td>\n    </tr>\n    <tr>\n      <th>1</th>\n      <td>1</td>\n      <td>23</td>\n      <td>2006-02-15 05:05:03</td>\n    </tr>\n    <tr>\n      <th>2</th>\n      <td>1</td>\n      <td>25</td>\n      <td>2006-02-15 05:05:03</td>\n    </tr>\n    <tr>\n      <th>3</th>\n      <td>1</td>\n      <td>106</td>\n      <td>2006-02-15 05:05:03</td>\n    </tr>\n    <tr>\n      <th>4</th>\n      <td>1</td>\n      <td>140</td>\n      <td>2006-02-15 05:05:03</td>\n    </tr>\n  </tbody>\n</table>\n</div>"
     },
     "metadata": {},
     "execution_count": 23
    }
   ],
   "source": [
    "# Menampilkan isi dari table film_actor\n",
    "sql_df('select * from film_actor limit 5')"
   ]
  },
  {
   "cell_type": "code",
   "execution_count": 24,
   "metadata": {},
   "outputs": [
    {
     "output_type": "execute_result",
     "data": {
      "text/plain": [
       "   actor_id first_name     last_name         last_update\n",
       "0         1   PENELOPE       GUINESS 2006-02-15 04:34:33\n",
       "1         2       NICK      WAHLBERG 2006-02-15 04:34:33\n",
       "2         3         ED         CHASE 2006-02-15 04:34:33\n",
       "3         4   JENNIFER         DAVIS 2006-02-15 04:34:33\n",
       "4         5     JOHNNY  LOLLOBRIGIDA 2006-02-15 04:34:33"
      ],
      "text/html": "<div>\n<style scoped>\n    .dataframe tbody tr th:only-of-type {\n        vertical-align: middle;\n    }\n\n    .dataframe tbody tr th {\n        vertical-align: top;\n    }\n\n    .dataframe thead th {\n        text-align: right;\n    }\n</style>\n<table border=\"1\" class=\"dataframe\">\n  <thead>\n    <tr style=\"text-align: right;\">\n      <th></th>\n      <th>actor_id</th>\n      <th>first_name</th>\n      <th>last_name</th>\n      <th>last_update</th>\n    </tr>\n  </thead>\n  <tbody>\n    <tr>\n      <th>0</th>\n      <td>1</td>\n      <td>PENELOPE</td>\n      <td>GUINESS</td>\n      <td>2006-02-15 04:34:33</td>\n    </tr>\n    <tr>\n      <th>1</th>\n      <td>2</td>\n      <td>NICK</td>\n      <td>WAHLBERG</td>\n      <td>2006-02-15 04:34:33</td>\n    </tr>\n    <tr>\n      <th>2</th>\n      <td>3</td>\n      <td>ED</td>\n      <td>CHASE</td>\n      <td>2006-02-15 04:34:33</td>\n    </tr>\n    <tr>\n      <th>3</th>\n      <td>4</td>\n      <td>JENNIFER</td>\n      <td>DAVIS</td>\n      <td>2006-02-15 04:34:33</td>\n    </tr>\n    <tr>\n      <th>4</th>\n      <td>5</td>\n      <td>JOHNNY</td>\n      <td>LOLLOBRIGIDA</td>\n      <td>2006-02-15 04:34:33</td>\n    </tr>\n  </tbody>\n</table>\n</div>"
     },
     "metadata": {},
     "execution_count": 24
    }
   ],
   "source": [
    "# Menampilkan isi dari table actor\n",
    "sql_df('select * from actor limit 5')"
   ]
  },
  {
   "source": [
    "3. Tampilkan daftar 10 aktor/aktris yang paling banyak membintangi film. Kolom yang ditampilkan minimal: id_aktor, nama depan, nama belakang dan jumlah film yang dibintangi. Kemudian urutkan dari aktor/aktris yang membintangi film terbanyak."
   ],
   "cell_type": "markdown",
   "metadata": {}
  },
  {
   "cell_type": "code",
   "execution_count": 28,
   "metadata": {},
   "outputs": [
    {
     "output_type": "execute_result",
     "data": {
      "text/plain": [
       "   actor_id first_name  last_name  jumlah_movie\n",
       "0       107       GINA  DEGENERES            42\n",
       "1       102     WALTER       TORN            41\n",
       "2       198       MARY     KEITEL            40\n",
       "3       181    MATTHEW     CARREY            39\n",
       "4        23     SANDRA     KILMER            37\n",
       "5        81   SCARLETT      DAMON            36\n",
       "6        37        VAL     BOLGER            35\n",
       "7       158     VIVIEN   BASINGER            35\n",
       "8       106    GROUCHO      DUNST            35\n",
       "9        13        UMA       WOOD            35"
      ],
      "text/html": "<div>\n<style scoped>\n    .dataframe tbody tr th:only-of-type {\n        vertical-align: middle;\n    }\n\n    .dataframe tbody tr th {\n        vertical-align: top;\n    }\n\n    .dataframe thead th {\n        text-align: right;\n    }\n</style>\n<table border=\"1\" class=\"dataframe\">\n  <thead>\n    <tr style=\"text-align: right;\">\n      <th></th>\n      <th>actor_id</th>\n      <th>first_name</th>\n      <th>last_name</th>\n      <th>jumlah_movie</th>\n    </tr>\n  </thead>\n  <tbody>\n    <tr>\n      <th>0</th>\n      <td>107</td>\n      <td>GINA</td>\n      <td>DEGENERES</td>\n      <td>42</td>\n    </tr>\n    <tr>\n      <th>1</th>\n      <td>102</td>\n      <td>WALTER</td>\n      <td>TORN</td>\n      <td>41</td>\n    </tr>\n    <tr>\n      <th>2</th>\n      <td>198</td>\n      <td>MARY</td>\n      <td>KEITEL</td>\n      <td>40</td>\n    </tr>\n    <tr>\n      <th>3</th>\n      <td>181</td>\n      <td>MATTHEW</td>\n      <td>CARREY</td>\n      <td>39</td>\n    </tr>\n    <tr>\n      <th>4</th>\n      <td>23</td>\n      <td>SANDRA</td>\n      <td>KILMER</td>\n      <td>37</td>\n    </tr>\n    <tr>\n      <th>5</th>\n      <td>81</td>\n      <td>SCARLETT</td>\n      <td>DAMON</td>\n      <td>36</td>\n    </tr>\n    <tr>\n      <th>6</th>\n      <td>37</td>\n      <td>VAL</td>\n      <td>BOLGER</td>\n      <td>35</td>\n    </tr>\n    <tr>\n      <th>7</th>\n      <td>158</td>\n      <td>VIVIEN</td>\n      <td>BASINGER</td>\n      <td>35</td>\n    </tr>\n    <tr>\n      <th>8</th>\n      <td>106</td>\n      <td>GROUCHO</td>\n      <td>DUNST</td>\n      <td>35</td>\n    </tr>\n    <tr>\n      <th>9</th>\n      <td>13</td>\n      <td>UMA</td>\n      <td>WOOD</td>\n      <td>35</td>\n    </tr>\n  </tbody>\n</table>\n</div>"
     },
     "metadata": {},
     "execution_count": 28
    }
   ],
   "source": [
    "sql_df('select F.actor_id, first_name, last_name, count(film_id) as jumlah_movie from actor A inner join film_actor F on A.actor_id = F.actor_id group by F.actor_id order by jumlah_movie desc limit 10')"
   ]
  },
  {
   "source": [
    "4. Dari soal sebelumnya diketahui Gina Degeneres merupakan aktris yang paling banyak membintangi\n",
    "film, dengan total 42 judul film. Kategori film apakah yang paling banyak dibintanginya? Untuk\n",
    "mengetahuinya, tampilkan daftar kategori film beserta jumlah film yang pernah dibintangi oleh\n",
    "Gina Degeneres."
   ],
   "cell_type": "markdown",
   "metadata": {}
  },
  {
   "cell_type": "code",
   "execution_count": 33,
   "metadata": {},
   "outputs": [
    {
     "output_type": "execute_result",
     "data": {
      "text/plain": [
       "       category  jumlah_movie\n",
       "0   Documentary             3\n",
       "1       Foreign             2\n",
       "2         Music             4\n",
       "3           New             1\n",
       "4        Sci-Fi             7\n",
       "5        Action             3\n",
       "6         Drama             2\n",
       "7     Animation             4\n",
       "8        Horror             1\n",
       "9        Family             4\n",
       "10       Comedy             3\n",
       "11     Children             2\n",
       "12     Classics             2\n",
       "13       Sports             2\n",
       "14        Games             1\n",
       "15       Travel             1"
      ],
      "text/html": "<div>\n<style scoped>\n    .dataframe tbody tr th:only-of-type {\n        vertical-align: middle;\n    }\n\n    .dataframe tbody tr th {\n        vertical-align: top;\n    }\n\n    .dataframe thead th {\n        text-align: right;\n    }\n</style>\n<table border=\"1\" class=\"dataframe\">\n  <thead>\n    <tr style=\"text-align: right;\">\n      <th></th>\n      <th>category</th>\n      <th>jumlah_movie</th>\n    </tr>\n  </thead>\n  <tbody>\n    <tr>\n      <th>0</th>\n      <td>Documentary</td>\n      <td>3</td>\n    </tr>\n    <tr>\n      <th>1</th>\n      <td>Foreign</td>\n      <td>2</td>\n    </tr>\n    <tr>\n      <th>2</th>\n      <td>Music</td>\n      <td>4</td>\n    </tr>\n    <tr>\n      <th>3</th>\n      <td>New</td>\n      <td>1</td>\n    </tr>\n    <tr>\n      <th>4</th>\n      <td>Sci-Fi</td>\n      <td>7</td>\n    </tr>\n    <tr>\n      <th>5</th>\n      <td>Action</td>\n      <td>3</td>\n    </tr>\n    <tr>\n      <th>6</th>\n      <td>Drama</td>\n      <td>2</td>\n    </tr>\n    <tr>\n      <th>7</th>\n      <td>Animation</td>\n      <td>4</td>\n    </tr>\n    <tr>\n      <th>8</th>\n      <td>Horror</td>\n      <td>1</td>\n    </tr>\n    <tr>\n      <th>9</th>\n      <td>Family</td>\n      <td>4</td>\n    </tr>\n    <tr>\n      <th>10</th>\n      <td>Comedy</td>\n      <td>3</td>\n    </tr>\n    <tr>\n      <th>11</th>\n      <td>Children</td>\n      <td>2</td>\n    </tr>\n    <tr>\n      <th>12</th>\n      <td>Classics</td>\n      <td>2</td>\n    </tr>\n    <tr>\n      <th>13</th>\n      <td>Sports</td>\n      <td>2</td>\n    </tr>\n    <tr>\n      <th>14</th>\n      <td>Games</td>\n      <td>1</td>\n    </tr>\n    <tr>\n      <th>15</th>\n      <td>Travel</td>\n      <td>1</td>\n    </tr>\n  </tbody>\n</table>\n</div>"
     },
     "metadata": {},
     "execution_count": 33
    }
   ],
   "source": [
    "sql_df('select category, count(title) as jumlah_movie from film_list L inner join film_actor A on L.FID = A.film_id where actor_id = \"107\" group by category')"
   ]
  },
  {
   "source": [
    "5. Dari soal sebelumnya diketahui Gina Degeneres paling banyak membintangi film bergenre\n",
    "sciencefiction, dengan total 7 judul film. Tampilkan daftar judul film sci-fi yang pernah dibintangi\n",
    "oleh Gina Degeneres. Kolom yang diwajibkan ada yaitu judul film dan kategorinya."
   ],
   "cell_type": "markdown",
   "metadata": {}
  },
  {
   "cell_type": "code",
   "execution_count": 35,
   "metadata": {},
   "outputs": [
    {
     "output_type": "execute_result",
     "data": {
      "text/plain": [
       "                 title category\n",
       "0  CHARIOTS CONSPIRACY   Sci-Fi\n",
       "1  COLDBLOODED DARLING   Sci-Fi\n",
       "2       FRISCO FORREST   Sci-Fi\n",
       "3    GOODFELLAS SALUTE   Sci-Fi\n",
       "4      LICENSE WEEKEND   Sci-Fi\n",
       "5         OPEN AFRICAN   Sci-Fi\n",
       "6  SPIRITED CASUALTIES   Sci-Fi"
      ],
      "text/html": "<div>\n<style scoped>\n    .dataframe tbody tr th:only-of-type {\n        vertical-align: middle;\n    }\n\n    .dataframe tbody tr th {\n        vertical-align: top;\n    }\n\n    .dataframe thead th {\n        text-align: right;\n    }\n</style>\n<table border=\"1\" class=\"dataframe\">\n  <thead>\n    <tr style=\"text-align: right;\">\n      <th></th>\n      <th>title</th>\n      <th>category</th>\n    </tr>\n  </thead>\n  <tbody>\n    <tr>\n      <th>0</th>\n      <td>CHARIOTS CONSPIRACY</td>\n      <td>Sci-Fi</td>\n    </tr>\n    <tr>\n      <th>1</th>\n      <td>COLDBLOODED DARLING</td>\n      <td>Sci-Fi</td>\n    </tr>\n    <tr>\n      <th>2</th>\n      <td>FRISCO FORREST</td>\n      <td>Sci-Fi</td>\n    </tr>\n    <tr>\n      <th>3</th>\n      <td>GOODFELLAS SALUTE</td>\n      <td>Sci-Fi</td>\n    </tr>\n    <tr>\n      <th>4</th>\n      <td>LICENSE WEEKEND</td>\n      <td>Sci-Fi</td>\n    </tr>\n    <tr>\n      <th>5</th>\n      <td>OPEN AFRICAN</td>\n      <td>Sci-Fi</td>\n    </tr>\n    <tr>\n      <th>6</th>\n      <td>SPIRITED CASUALTIES</td>\n      <td>Sci-Fi</td>\n    </tr>\n  </tbody>\n</table>\n</div>"
     },
     "metadata": {},
     "execution_count": 35
    }
   ],
   "source": [
    "sql_df('select title, category from film_list L inner join film_actor A on L.FID = A.film_id where actor_id = \"107\" and category = \"Sci-Fi\"')"
   ]
  }
 ]
}